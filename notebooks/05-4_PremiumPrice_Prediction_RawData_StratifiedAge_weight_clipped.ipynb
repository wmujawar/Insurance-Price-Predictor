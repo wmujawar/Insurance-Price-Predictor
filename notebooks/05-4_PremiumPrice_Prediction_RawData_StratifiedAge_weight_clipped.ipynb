{
 "cells": [
  {
   "cell_type": "markdown",
   "metadata": {},
   "source": [
    "The goal of this experiment is to clip the weight fields to 99 percentile to observe if we get better performance if the outliers are brought to scale close to 99 percent of the data,"
   ]
  },
  {
   "cell_type": "markdown",
   "metadata": {},
   "source": [
    "## Imports"
   ]
  },
  {
   "cell_type": "code",
   "execution_count": 2,
   "metadata": {},
   "outputs": [],
   "source": [
    "import os\n",
    "import sys\n",
    "parent_dir = os.path.abspath(os.path.join(os.getcwd(), os.pardir))\n",
    "sys.path.append(parent_dir)"
   ]
  },
  {
   "cell_type": "code",
   "execution_count": 3,
   "metadata": {},
   "outputs": [],
   "source": [
    "import warnings\n",
    "import numpy as np\n",
    "import pandas as pd\n",
    "\n",
    "from sklearn.preprocessing import StandardScaler\n",
    "from sklearn.model_selection import train_test_split\n",
    "from sklearn.linear_model import LinearRegression\n",
    "from sklearn.tree import DecisionTreeRegressor\n",
    "from sklearn.ensemble import RandomForestRegressor, StackingRegressor, VotingRegressor\n",
    "from sklearn.ensemble import GradientBoostingRegressor\n",
    "from sklearn.pipeline import Pipeline\n",
    "from sklearn.compose import ColumnTransformer\n",
    "\n",
    "import xgboost as xgb\n",
    "\n",
    "import mlflow\n",
    "\n",
    "from src.utils import r2_and_adjusted_r2_score as score, root_mean_squared_error as rmse\n",
    "from src.mlflow_util import setup_mlflow_experiment as setup_exp\n",
    "\n",
    "warnings.filterwarnings('ignore')\n"
   ]
  },
  {
   "cell_type": "markdown",
   "metadata": {},
   "source": [
    "## Read Data"
   ]
  },
  {
   "cell_type": "code",
   "execution_count": 4,
   "metadata": {},
   "outputs": [],
   "source": [
    "raw_data_dir = os.path.join(parent_dir, 'data', 'raw')"
   ]
  },
  {
   "cell_type": "code",
   "execution_count": 5,
   "metadata": {},
   "outputs": [],
   "source": [
    "df = pd.read_csv(os.path.join(raw_data_dir, 'insurance.csv'))"
   ]
  },
  {
   "cell_type": "code",
   "execution_count": null,
   "metadata": {},
   "outputs": [],
   "source": [
    "df.head()"
   ]
  },
  {
   "cell_type": "markdown",
   "metadata": {},
   "source": [
    "## MLFlow Setup"
   ]
  },
  {
   "cell_type": "code",
   "execution_count": null,
   "metadata": {},
   "outputs": [],
   "source": [
    "exp_name = 'Premium Prediction - stratified by Age - Weight clipped'\n",
    "exp_description = '''The goal is to predict the PremiumPrice based on the given features.\n",
    "Data is splitted using the Age feature to ensure that the distribution of Age is similar in both train and test sets.\n",
    "There are no engineered features in this experiment. \n",
    "\n",
    "The weight fields as it had some outlier, is clipped to 99 percentile to observe if the model performs better with outliers\n",
    "'''\n",
    "\n",
    "experiment = setup_exp(exp_name, exp_description)\n",
    "\n",
    "experiment_id = experiment.experiment_id\n",
    "\n",
    "mlflow.set_experiment(experiment_id=experiment_id)"
   ]
  },
  {
   "cell_type": "markdown",
   "metadata": {},
   "source": [
    "## Model Building"
   ]
  },
  {
   "cell_type": "markdown",
   "metadata": {},
   "source": [
    "### Clipping weight"
   ]
  },
  {
   "cell_type": "code",
   "execution_count": 10,
   "metadata": {},
   "outputs": [],
   "source": [
    "column_name = 'Weight'\n",
    "percentile = 0.95\n",
    "\n",
    "percentile_value = df[column_name].quantile(percentile)\n",
    "\n",
    "df[column_name] = np.where(df[column_name] > percentile_value,\n",
    "                                   percentile_value,\n",
    "                                   df[column_name])"
   ]
  },
  {
   "cell_type": "code",
   "execution_count": null,
   "metadata": {},
   "outputs": [],
   "source": [
    "import matplotlib.pyplot as plt\n",
    "import seaborn as sns\n",
    "\n",
    "numeric_columns = ['Age', 'Height', 'Weight']\n",
    "\n",
    "fig, ax = plt.subplots(1, 3, figsize=(15, 5))\n",
    "\n",
    "ax = ax.flatten()\n",
    "\n",
    "for index, column in enumerate(numeric_columns):\n",
    "    sns.boxplot(y=df[column], ax=ax[index])\n",
    "    ax[index].set_title(f'Boxplot of {column}')\n",
    "\n",
    "plt.tight_layout()\n",
    "plt.show()"
   ]
  },
  {
   "cell_type": "markdown",
   "metadata": {},
   "source": [
    "### Train Test Split"
   ]
  },
  {
   "cell_type": "code",
   "execution_count": 8,
   "metadata": {},
   "outputs": [],
   "source": [
    "age_bins = [18, 25, 40, 55, np.inf]\n",
    "age_labels = ['Young Adult', 'Adult', \n",
    "              'Middle Aged Adults', 'Senior']\n",
    "\n",
    "age_category = pd.cut(df['Age'], bins=age_bins, labels=age_labels, right=False)"
   ]
  },
  {
   "cell_type": "code",
   "execution_count": 9,
   "metadata": {},
   "outputs": [],
   "source": [
    "X_train, X_test, y_train, y_test = train_test_split(df.drop(columns=['PremiumPrice']), df['PremiumPrice'],\n",
    "                                                    stratify=age_category, test_size=0.2, random_state=42)"
   ]
  },
  {
   "cell_type": "markdown",
   "metadata": {},
   "source": [
    "### Linear Regression"
   ]
  },
  {
   "cell_type": "code",
   "execution_count": 10,
   "metadata": {},
   "outputs": [],
   "source": [
    "numeric_columns = ['Age', 'Height', 'Weight']\n",
    "binary_columns = ['Diabetes', 'BloodPressureProblems', 'AnyTransplants', 'AnyChronicDiseases', 'KnownAllergies', 'HistoryOfCancerInFamily', 'NumberOfMajorSurgeries']\n",
    "\n",
    "preprocessor = ColumnTransformer([\n",
    "    ('scaler', StandardScaler(), numeric_columns),\n",
    "    ('passthrough', 'passthrough', binary_columns)\n",
    "])\n",
    "\n",
    "pipeline = Pipeline([\n",
    "    ('preprocess', preprocessor),\n",
    "    ('regressor', LinearRegression())\n",
    "])\n",
    "\n",
    "with mlflow.start_run(run_name=\"Linear Regression\"):\n",
    "    pipeline.fit(X_train, y_train)\n",
    "    \n",
    "    y_train_pred = pipeline.predict(X_train)\n",
    "    y_test_pred = pipeline.predict(X_test)\n",
    "    \n",
    "    rmse_train = rmse(y_train, y_train_pred)\n",
    "    rmse_test = rmse(y_test, y_test_pred)\n",
    "    \n",
    "    signature = mlflow.models.infer_signature(X_train, y_train_pred)\n",
    "\n",
    "    r2_train, adj_r2_train = score(y_train, y_train_pred, X_train.shape[0], X_train.shape[1])\n",
    "    r2_test, adj_r2_test = score(y_test, y_test_pred, X_test.shape[0], X_test.shape[1])\n",
    "    \n",
    "    mlflow.set_tag('Model', 'Linear Regression')\n",
    "    mlflow.log_metric('Train - RMSE', rmse_train)\n",
    "    mlflow.log_metric('Test - RMSE', rmse_test)\n",
    "    mlflow.log_metric('Train - r2 score', r2_train)\n",
    "    mlflow.log_metric('Test - r2 score', r2_test)\n",
    "    mlflow.log_metric('Train - Adjusted r2 score', adj_r2_train)\n",
    "    mlflow.log_metric('Test - Adjusted r2 score', adj_r2_test)\n",
    "    \n",
    "    mlflow.sklearn.log_model(pipeline, 'model',  signature=signature)\n",
    "    "
   ]
  },
  {
   "cell_type": "markdown",
   "metadata": {},
   "source": [
    "### Decision Tree"
   ]
  },
  {
   "cell_type": "code",
   "execution_count": 11,
   "metadata": {},
   "outputs": [],
   "source": [
    "def run_mlflow_decision_tree(max_dept: int) -> None:\n",
    "    with mlflow.start_run(run_name=\"Decision Tree\"):\n",
    "        model = DecisionTreeRegressor(max_depth=max_dept)\n",
    "        \n",
    "        model.fit(X_train, y_train)\n",
    "        \n",
    "        y_train_pred = model.predict(X_train)\n",
    "        y_test_pred = model.predict(X_test)\n",
    "        \n",
    "        rmse_train = rmse(y_train, y_train_pred)\n",
    "        rmse_test = rmse(y_test, y_test_pred)\n",
    "        \n",
    "        signature = mlflow.models.infer_signature(X_train, y_train_pred)\n",
    "\n",
    "\n",
    "        r2_train, adj_r2_train = score(y_train, y_train_pred, X_train.shape[0], X_train.shape[1])\n",
    "        r2_test, adj_r2_test = score(y_test, y_test_pred, X_test.shape[0], X_test.shape[1])\n",
    "        \n",
    "        mlflow.set_tag('Model', 'Decision Tree Regressor')\n",
    "        \n",
    "        mlflow.log_param('max_depth', max_dept)\n",
    "        mlflow.log_metric('Train - RMSE', rmse_train)\n",
    "        mlflow.log_metric('Test - RMSE', rmse_test)\n",
    "        mlflow.log_metric('Train - r2 score', r2_train)\n",
    "        mlflow.log_metric('Test - r2 score', r2_test)\n",
    "        mlflow.log_metric('Train - Adjusted r2 score', adj_r2_train)\n",
    "        mlflow.log_metric('Test - Adjusted r2 score', adj_r2_test)\n",
    "\n",
    "        mlflow.sklearn.log_model(model, 'model',  signature=signature)"
   ]
  },
  {
   "cell_type": "code",
   "execution_count": 12,
   "metadata": {},
   "outputs": [],
   "source": [
    "for depth in range(3, 9):\n",
    "    run_mlflow_decision_tree(depth)"
   ]
  },
  {
   "cell_type": "markdown",
   "metadata": {},
   "source": [
    "### Random Forest Regressor"
   ]
  },
  {
   "cell_type": "code",
   "execution_count": 13,
   "metadata": {},
   "outputs": [],
   "source": [
    "def run_mlflow_random_forest(n_estimators: int, max_dept: int, max_feature: str = None) -> None:\n",
    "    with mlflow.start_run(run_name=\"Random Forest\"):\n",
    "        model = RandomForestRegressor(n_estimators=n_estimators, \n",
    "                                        max_depth=max_dept, \n",
    "                                        max_features=max_feature, \n",
    "                                        n_jobs=-1)\n",
    "        \n",
    "        model.fit(X_train, y_train)\n",
    "        \n",
    "        y_train_pred = model.predict(X_train)\n",
    "        y_test_pred = model.predict(X_test)\n",
    "        \n",
    "        rmse_train = rmse(y_train, y_train_pred)\n",
    "        rmse_test = rmse(y_test, y_test_pred)\n",
    "        \n",
    "        signature = mlflow.models.infer_signature(X_train, y_train_pred)\n",
    "\n",
    "        r2_train, adj_r2_train = score(y_train, y_train_pred, X_train.shape[0], X_train.shape[1])\n",
    "        r2_test, adj_r2_test = score(y_test, y_test_pred, X_test.shape[0], X_test.shape[1])\n",
    "        \n",
    "        mlflow.set_tag('Model', 'Random Forest Regressor')\n",
    "        mlflow.log_param('n_estimators', n_estimators)\n",
    "        mlflow.log_param('max_depth', max_dept)\n",
    "        mlflow.log_param('max_features', max_feature)\n",
    "        mlflow.log_metric('Train - RMSE', rmse_train)\n",
    "        mlflow.log_metric('Test - RMSE', rmse_test)\n",
    "        mlflow.log_metric('Train - r2 score', r2_train)\n",
    "        mlflow.log_metric('Test - r2 score', r2_test)\n",
    "        mlflow.log_metric('Train - Adjusted r2 score', adj_r2_train)\n",
    "        mlflow.log_metric('Test - Adjusted r2 score', adj_r2_test)\n",
    "        mlflow.sklearn.log_model(model, 'model',  signature=signature)"
   ]
  },
  {
   "cell_type": "code",
   "execution_count": 14,
   "metadata": {},
   "outputs": [],
   "source": [
    "n_estimator = [80, 90, 100]\n",
    "max_depth = [3, 4, 5, 6, 7, 8]\n",
    "max_features = [None, 'sqrt', 'log2']\n",
    "\n",
    "for n_est in n_estimator:\n",
    "    for depth in max_depth:\n",
    "        for feature in max_features:\n",
    "            run_mlflow_random_forest(n_est, depth, feature)"
   ]
  },
  {
   "cell_type": "code",
   "execution_count": 15,
   "metadata": {},
   "outputs": [],
   "source": [
    "run_mlflow_random_forest(90, 7)"
   ]
  },
  {
   "cell_type": "code",
   "execution_count": 16,
   "metadata": {},
   "outputs": [],
   "source": [
    "run_mlflow_random_forest(100, 7)"
   ]
  },
  {
   "cell_type": "markdown",
   "metadata": {},
   "source": [
    "### Gradient Boosting Regressor"
   ]
  },
  {
   "cell_type": "code",
   "execution_count": 17,
   "metadata": {},
   "outputs": [],
   "source": [
    "def run_mlflow_gbdt(loss: str, learning_rate: float, n_estimators: int, max_dept: int) -> None:\n",
    "    with mlflow.start_run(run_name=\"GBDT\"):\n",
    "        model = GradientBoostingRegressor(n_estimators=n_estimators, \n",
    "                                            max_depth=max_dept, \n",
    "                                            learning_rate=learning_rate, \n",
    "                                            loss=loss)\n",
    "        \n",
    "        model.fit(X_train, y_train)\n",
    "        \n",
    "        y_train_pred = model.predict(X_train)\n",
    "        y_test_pred = model.predict(X_test)\n",
    "        \n",
    "        rmse_train = rmse(y_train, y_train_pred)\n",
    "        rmse_test = rmse(y_test, y_test_pred)\n",
    "        \n",
    "        signature = mlflow.models.infer_signature(X_train, y_train_pred)\n",
    "\n",
    "        r2_train, adj_r2_train = score(y_train, y_train_pred, X_train.shape[0], X_train.shape[1])\n",
    "        r2_test, adj_r2_test = score(y_test, y_test_pred, X_test.shape[0], X_test.shape[1])\n",
    "        \n",
    "        mlflow.set_tag('Model', 'GBDT Regressor')\n",
    "        mlflow.log_param('loss', loss)\n",
    "        mlflow.log_param('learning_rate', learning_rate)\n",
    "        mlflow.log_param('n_estimators', n_estimators)\n",
    "        mlflow.log_param('max_depth', max_dept)\n",
    "        mlflow.log_metric('Train - RMSE', rmse_train)\n",
    "        mlflow.log_metric('Test - RMSE', rmse_test)\n",
    "        mlflow.log_metric('Train - r2 score', r2_train)\n",
    "        mlflow.log_metric('Test - r2 score', r2_test)\n",
    "        mlflow.log_metric('Train - Adjusted r2 score', adj_r2_train)\n",
    "        mlflow.log_metric('Test - Adjusted r2 score', adj_r2_test)\n",
    "        mlflow.sklearn.log_model(model, 'model',  signature=signature)"
   ]
  },
  {
   "cell_type": "code",
   "execution_count": 18,
   "metadata": {},
   "outputs": [],
   "source": [
    "loss = ['squared_error', 'huber']\n",
    "n_estimator = [80, 90, 100, 110, 120]\n",
    "max_depth = [3, 4, 5, 6]\n",
    "learning_rate = [0.01, 0.1, 0.2, 0.3]"
   ]
  },
  {
   "cell_type": "code",
   "execution_count": 19,
   "metadata": {},
   "outputs": [],
   "source": [
    "for l in loss:\n",
    "    for n_est in n_estimator:\n",
    "        for depth in max_depth:\n",
    "            for lr in learning_rate:\n",
    "                run_mlflow_gbdt(l, lr, n_est, depth)"
   ]
  },
  {
   "cell_type": "markdown",
   "metadata": {},
   "source": [
    "### XGBoost Regression"
   ]
  },
  {
   "cell_type": "code",
   "execution_count": 20,
   "metadata": {},
   "outputs": [],
   "source": [
    "def run_mlflow_xgboost(max_dept: int, n_estimators: int, learning_rate: float, reg_alpha: float, reg_lambda: float) -> None:\n",
    "    with mlflow.start_run(run_name=\"XGBoost\"):\n",
    "        model = xgb.XGBRegressor(max_depth=max_dept, n_estimators=n_estimators, \n",
    "                                 learning_rate=learning_rate, n_jobs=-1, reg_alpha=reg_alpha, \n",
    "                                 reg_lambda=reg_lambda)\n",
    "        \n",
    "        model.fit(X_train, y_train)\n",
    "        \n",
    "        y_train_pred = model.predict(X_train)\n",
    "        y_test_pred = model.predict(X_test)\n",
    "        \n",
    "        rmse_train = rmse(y_train, y_train_pred)\n",
    "        rmse_test = rmse(y_test, y_test_pred)\n",
    "        \n",
    "        signature = mlflow.models.infer_signature(X_train, y_train_pred)\n",
    "\n",
    "        r2_train, adj_r2_train = score(y_train, y_train_pred, X_train.shape[0], X_train.shape[1])\n",
    "        r2_test, adj_r2_test = score(y_test, y_test_pred, X_test.shape[0], X_test.shape[1])\n",
    "        \n",
    "        mlflow.set_tag('Model', 'XGBoost Regressor')\n",
    "        mlflow.log_param('max_depth', max_dept)\n",
    "        mlflow.log_param('n_estimators', n_estimators)\n",
    "        mlflow.log_param('learning_rate', learning_rate)\n",
    "        mlflow.log_param('reg_alpha', reg_alpha)\n",
    "        mlflow.log_param('reg_lambda', reg_lambda)\n",
    "        mlflow.log_metric('Train - RMSE', rmse_train)\n",
    "        mlflow.log_metric('Test - RMSE', rmse_test)\n",
    "        mlflow.log_metric('Train - r2 score', r2_train)\n",
    "        mlflow.log_metric('Test - r2 score', r2_test)\n",
    "        mlflow.log_metric('Train - Adjusted r2 score', adj_r2_train)\n",
    "        mlflow.log_metric('Test - Adjusted r2 score', adj_r2_test)\n",
    "        mlflow.sklearn.log_model(model, 'model',  signature=signature)"
   ]
  },
  {
   "cell_type": "code",
   "execution_count": 21,
   "metadata": {},
   "outputs": [],
   "source": [
    "n_estimator = [80, 90, 95, 100]\n",
    "reg_alpha = [0.1, 0.3, 0.5, 0.7]\n",
    "reg_lambda = [0.1, 0.3, 0.5, 0.7]\n",
    "max_depth = [5, 6, 7]\n",
    "learning_rate = [0.02, 0.03, 0.04]\n",
    "\n",
    "for n_est in n_estimator:\n",
    "    for depth in max_depth:\n",
    "        for lr in learning_rate:\n",
    "            for alpha in reg_alpha:\n",
    "                for lam in reg_lambda:\n",
    "                    run_mlflow_xgboost(depth, n_est, lr, alpha, lam)"
   ]
  },
  {
   "cell_type": "markdown",
   "metadata": {},
   "source": [
    "### Stacking Regression"
   ]
  },
  {
   "cell_type": "code",
   "execution_count": 22,
   "metadata": {},
   "outputs": [],
   "source": [
    "base_learner = [\n",
    "    ('gb1', GradientBoostingRegressor(n_estimators=110, max_depth=5, learning_rate=0.1, loss='huber')),\n",
    "    ('gb2', GradientBoostingRegressor(n_estimators=120, max_depth=5, learning_rate=0.1, loss='huber')),\n",
    "    ('rd1', RandomForestRegressor(n_estimators=100, max_depth=7, n_jobs=-1)),\n",
    "    ('rd2', RandomForestRegressor(n_estimators=90, max_depth=7, n_jobs=-1)),\n",
    "    ('xg1', xgb.XGBRegressor(max_depth=6, n_estimators=90, learning_rate=0.03, reg_alpha=0.5, reg_lambda=0.7)),\n",
    "    ('xg2', xgb.XGBRegressor(max_depth=6, n_estimators=80, learning_rate=0.04, reg_alpha=0.1, reg_lambda=0.7))\n",
    "]\n",
    "\n",
    "final_estimator = LinearRegression()\n",
    "\n",
    "with mlflow.start_run(run_name=\"Stacking Regressor\"):\n",
    "    model = StackingRegressor(estimators=base_learner, final_estimator=final_estimator)\n",
    "    \n",
    "    model.fit(X_train, y_train)\n",
    "\n",
    "    y_train_pred = model.predict(X_train)\n",
    "    y_test_pred = model.predict(X_test)\n",
    "\n",
    "    rmse_train = rmse(y_train, y_train_pred)\n",
    "    rmse_test = rmse(y_test, y_test_pred)\n",
    "\n",
    "    signature = mlflow.models.infer_signature(X_train, y_train_pred)\n",
    "\n",
    "    r2_train, adj_r2_train = score(y_train, y_train_pred, X_train.shape[0], X_train.shape[1])\n",
    "    r2_test, adj_r2_test = score(y_test, y_test_pred, X_test.shape[0], X_test.shape[1])\n",
    "\n",
    "    mlflow.set_tag('Model', 'Stacking Regressor')\n",
    "    mlflow.log_metric('Train - RMSE', rmse_train)\n",
    "    mlflow.log_metric('Test - RMSE', rmse_test)\n",
    "    mlflow.log_metric('Train - r2 score', r2_train)\n",
    "    mlflow.log_metric('Test - r2 score', r2_test)\n",
    "    mlflow.log_metric('Train - Adjusted r2 score', adj_r2_train)\n",
    "    mlflow.log_metric('Test - Adjusted r2 score', adj_r2_test)\n",
    "    mlflow.sklearn.log_model(model, 'model',  signature=signature)"
   ]
  },
  {
   "cell_type": "markdown",
   "metadata": {},
   "source": [
    "### Voting Regressor"
   ]
  },
  {
   "cell_type": "code",
   "execution_count": 23,
   "metadata": {},
   "outputs": [],
   "source": [
    "with mlflow.start_run(run_name='Voting Regressor'):\n",
    "    model = VotingRegressor(estimators=base_learner)\n",
    "    \n",
    "    model.fit(X_train, y_train)\n",
    "\n",
    "    y_train_pred = model.predict(X_train)\n",
    "    y_test_pred = model.predict(X_test)\n",
    "\n",
    "    rmse_train = rmse(y_train, y_train_pred)\n",
    "    rmse_test = rmse(y_test, y_test_pred)\n",
    "\n",
    "    signature = mlflow.models.infer_signature(X_train, y_train_pred)\n",
    "\n",
    "    r2_train, adj_r2_train = score(y_train, y_train_pred, X_train.shape[0], X_train.shape[1])\n",
    "    r2_test, adj_r2_test = score(y_test, y_test_pred, X_test.shape[0], X_test.shape[1])\n",
    "\n",
    "    mlflow.set_tag('Model', 'Voting Regressor')\n",
    "    mlflow.log_metric('Train - RMSE', rmse_train)\n",
    "    mlflow.log_metric('Test - RMSE', rmse_test)\n",
    "    mlflow.log_metric('Train - r2 score', r2_train)\n",
    "    mlflow.log_metric('Test - r2 score', r2_test)\n",
    "    mlflow.log_metric('Train - Adjusted r2 score', adj_r2_train)\n",
    "    mlflow.log_metric('Test - Adjusted r2 score', adj_r2_test)\n",
    "    mlflow.sklearn.log_model(model, 'model',  signature=signature)"
   ]
  },
  {
   "cell_type": "markdown",
   "metadata": {},
   "source": [
    "## Observations"
   ]
  },
  {
   "cell_type": "markdown",
   "metadata": {},
   "source": []
  }
 ],
 "metadata": {
  "kernelspec": {
   "display_name": "ml3.12",
   "language": "python",
   "name": "python3"
  },
  "language_info": {
   "codemirror_mode": {
    "name": "ipython",
    "version": 3
   },
   "file_extension": ".py",
   "mimetype": "text/x-python",
   "name": "python",
   "nbconvert_exporter": "python",
   "pygments_lexer": "ipython3",
   "version": "3.12.2"
  }
 },
 "nbformat": 4,
 "nbformat_minor": 2
}
