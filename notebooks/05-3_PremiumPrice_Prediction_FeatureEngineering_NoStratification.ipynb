{
 "cells": [
  {
   "cell_type": "markdown",
   "metadata": {},
   "source": [
    "The goal is to predict the PremiumPrice using the given features. No stratification technique is used in this experiment. Instead, feature engineering is applied to create new features, such as BMI and MajorSurgeryDone."
   ]
  },
  {
   "cell_type": "markdown",
   "metadata": {},
   "source": [
    "## Imports"
   ]
  },
  {
   "cell_type": "code",
   "execution_count": 1,
   "metadata": {},
   "outputs": [],
   "source": [
    "import os\n",
    "import sys\n",
    "parent_dir = os.path.abspath(os.path.join(os.getcwd(), os.pardir))\n",
    "sys.path.append(parent_dir)"
   ]
  },
  {
   "cell_type": "code",
   "execution_count": 2,
   "metadata": {},
   "outputs": [],
   "source": [
    "import warnings\n",
    "import numpy as np\n",
    "import pandas as pd\n",
    "\n",
    "from sklearn.preprocessing import StandardScaler\n",
    "from sklearn.model_selection import train_test_split\n",
    "from sklearn.linear_model import LinearRegression\n",
    "from sklearn.tree import DecisionTreeRegressor\n",
    "from sklearn.ensemble import RandomForestRegressor, StackingRegressor, VotingRegressor\n",
    "from sklearn.ensemble import GradientBoostingRegressor\n",
    "from sklearn.pipeline import Pipeline\n",
    "from sklearn.compose import ColumnTransformer\n",
    "\n",
    "import xgboost as xgb\n",
    "\n",
    "import mlflow\n",
    "\n",
    "from src.utils import r2_and_adjusted_r2_score as score, root_mean_squared_error as rmse\n",
    "from src.utils import setup_mlflow_experiment as setup_exp\n",
    "\n",
    "warnings.filterwarnings('ignore')\n"
   ]
  },
  {
   "cell_type": "markdown",
   "metadata": {},
   "source": [
    "## Read Data"
   ]
  },
  {
   "cell_type": "code",
   "execution_count": 3,
   "metadata": {},
   "outputs": [],
   "source": [
    "processed_data_dir = os.path.join(parent_dir, 'data', 'processed')"
   ]
  },
  {
   "cell_type": "code",
   "execution_count": 4,
   "metadata": {},
   "outputs": [
    {
     "data": {
      "text/html": [
       "<div>\n",
       "<style scoped>\n",
       "    .dataframe tbody tr th:only-of-type {\n",
       "        vertical-align: middle;\n",
       "    }\n",
       "\n",
       "    .dataframe tbody tr th {\n",
       "        vertical-align: top;\n",
       "    }\n",
       "\n",
       "    .dataframe thead th {\n",
       "        text-align: right;\n",
       "    }\n",
       "</style>\n",
       "<table border=\"1\" class=\"dataframe\">\n",
       "  <thead>\n",
       "    <tr style=\"text-align: right;\">\n",
       "      <th></th>\n",
       "      <th>Age</th>\n",
       "      <th>Diabetes</th>\n",
       "      <th>BloodPressureProblems</th>\n",
       "      <th>AnyTransplants</th>\n",
       "      <th>AnyChronicDiseases</th>\n",
       "      <th>Height</th>\n",
       "      <th>Weight</th>\n",
       "      <th>KnownAllergies</th>\n",
       "      <th>HistoryOfCancerInFamily</th>\n",
       "      <th>NumberOfMajorSurgeries</th>\n",
       "      <th>PremiumPrice</th>\n",
       "      <th>MajorSurgeryDone</th>\n",
       "      <th>BMI</th>\n",
       "    </tr>\n",
       "  </thead>\n",
       "  <tbody>\n",
       "    <tr>\n",
       "      <th>0</th>\n",
       "      <td>45</td>\n",
       "      <td>0</td>\n",
       "      <td>0</td>\n",
       "      <td>0</td>\n",
       "      <td>0</td>\n",
       "      <td>155</td>\n",
       "      <td>57</td>\n",
       "      <td>0</td>\n",
       "      <td>0</td>\n",
       "      <td>0</td>\n",
       "      <td>25000</td>\n",
       "      <td>0</td>\n",
       "      <td>23.725286</td>\n",
       "    </tr>\n",
       "    <tr>\n",
       "      <th>1</th>\n",
       "      <td>60</td>\n",
       "      <td>1</td>\n",
       "      <td>0</td>\n",
       "      <td>0</td>\n",
       "      <td>0</td>\n",
       "      <td>180</td>\n",
       "      <td>73</td>\n",
       "      <td>0</td>\n",
       "      <td>0</td>\n",
       "      <td>0</td>\n",
       "      <td>29000</td>\n",
       "      <td>0</td>\n",
       "      <td>22.530864</td>\n",
       "    </tr>\n",
       "    <tr>\n",
       "      <th>2</th>\n",
       "      <td>36</td>\n",
       "      <td>1</td>\n",
       "      <td>1</td>\n",
       "      <td>0</td>\n",
       "      <td>0</td>\n",
       "      <td>158</td>\n",
       "      <td>59</td>\n",
       "      <td>0</td>\n",
       "      <td>0</td>\n",
       "      <td>1</td>\n",
       "      <td>23000</td>\n",
       "      <td>1</td>\n",
       "      <td>23.634033</td>\n",
       "    </tr>\n",
       "    <tr>\n",
       "      <th>3</th>\n",
       "      <td>52</td>\n",
       "      <td>1</td>\n",
       "      <td>1</td>\n",
       "      <td>0</td>\n",
       "      <td>1</td>\n",
       "      <td>183</td>\n",
       "      <td>93</td>\n",
       "      <td>0</td>\n",
       "      <td>0</td>\n",
       "      <td>2</td>\n",
       "      <td>28000</td>\n",
       "      <td>1</td>\n",
       "      <td>27.770313</td>\n",
       "    </tr>\n",
       "    <tr>\n",
       "      <th>4</th>\n",
       "      <td>38</td>\n",
       "      <td>0</td>\n",
       "      <td>0</td>\n",
       "      <td>0</td>\n",
       "      <td>1</td>\n",
       "      <td>166</td>\n",
       "      <td>88</td>\n",
       "      <td>0</td>\n",
       "      <td>0</td>\n",
       "      <td>1</td>\n",
       "      <td>23000</td>\n",
       "      <td>1</td>\n",
       "      <td>31.934969</td>\n",
       "    </tr>\n",
       "  </tbody>\n",
       "</table>\n",
       "</div>"
      ],
      "text/plain": [
       "   Age  Diabetes  BloodPressureProblems  AnyTransplants  AnyChronicDiseases  \\\n",
       "0   45         0                      0               0                   0   \n",
       "1   60         1                      0               0                   0   \n",
       "2   36         1                      1               0                   0   \n",
       "3   52         1                      1               0                   1   \n",
       "4   38         0                      0               0                   1   \n",
       "\n",
       "   Height  Weight  KnownAllergies  HistoryOfCancerInFamily  \\\n",
       "0     155      57               0                        0   \n",
       "1     180      73               0                        0   \n",
       "2     158      59               0                        0   \n",
       "3     183      93               0                        0   \n",
       "4     166      88               0                        0   \n",
       "\n",
       "   NumberOfMajorSurgeries  PremiumPrice  MajorSurgeryDone        BMI  \n",
       "0                       0         25000                 0  23.725286  \n",
       "1                       0         29000                 0  22.530864  \n",
       "2                       1         23000                 1  23.634033  \n",
       "3                       2         28000                 1  27.770313  \n",
       "4                       1         23000                 1  31.934969  "
      ]
     },
     "execution_count": 4,
     "metadata": {},
     "output_type": "execute_result"
    }
   ],
   "source": [
    "df = pd.read_csv(os.path.join(processed_data_dir, 'insurance_feature_engineered_for_model.csv'))\n",
    "df.head()"
   ]
  },
  {
   "cell_type": "markdown",
   "metadata": {},
   "source": [
    "## MLFlow Setup"
   ]
  },
  {
   "cell_type": "code",
   "execution_count": 5,
   "metadata": {},
   "outputs": [
    {
     "data": {
      "text/plain": [
       "<Experiment: artifact_location=('file:///Users/wasimmujawar/Desktop/Case '\n",
       " 'Study/Insaurance/mlruns/611947279263242194'), creation_time=1735669989723, experiment_id='611947279263242194', last_update_time=1735669989723, lifecycle_stage='active', name='Premium Prediction - No stratification - Feature Engineered', tags={'mlflow.note.content': 'The goal is to predict the PremiumPrice based on the '\n",
       "                        'given features.\\n'\n",
       "                        'There is no stratification technique used in the '\n",
       "                        'experiment\\n'\n",
       "                        'Feature engineering is done to create new features '\n",
       "                        'like BMI and MajorSurgeryDone\\n'}>"
      ]
     },
     "execution_count": 5,
     "metadata": {},
     "output_type": "execute_result"
    }
   ],
   "source": [
    "exp_name = 'Premium Prediction - No stratification - Feature Engineered'\n",
    "exp_description = '''The goal is to predict the PremiumPrice based on the given features.\n",
    "There is no stratification technique used in the experiment\n",
    "Feature engineering is done to create new features like BMI and MajorSurgeryDone\n",
    "'''\n",
    "\n",
    "experiment = setup_exp(exp_name, exp_description)\n",
    "\n",
    "experiment_id = experiment.experiment_id\n",
    "\n",
    "mlflow.set_experiment(experiment_id=experiment_id)\n"
   ]
  },
  {
   "cell_type": "markdown",
   "metadata": {},
   "source": [
    "## Model Building"
   ]
  },
  {
   "cell_type": "markdown",
   "metadata": {},
   "source": [
    "### Train Test Split"
   ]
  },
  {
   "cell_type": "code",
   "execution_count": 6,
   "metadata": {},
   "outputs": [],
   "source": [
    "X_train, X_test, y_train, y_test = train_test_split(df.drop(columns=['PremiumPrice']), df['PremiumPrice'], test_size=0.2, random_state=42)"
   ]
  },
  {
   "cell_type": "markdown",
   "metadata": {},
   "source": [
    "### Linear Regression"
   ]
  },
  {
   "cell_type": "code",
   "execution_count": 7,
   "metadata": {},
   "outputs": [],
   "source": [
    "numeric_columns = ['Age', 'Height', 'Weight', 'BMI']\n",
    "binary_columns = ['Diabetes', 'BloodPressureProblems', 'AnyTransplants', 'AnyChronicDiseases', 'KnownAllergies', 'HistoryOfCancerInFamily', 'MajorSurgeryDone', 'NumberOfMajorSurgeries']\n",
    "\n",
    "preprocessor = ColumnTransformer([\n",
    "    ('scaler', StandardScaler(), numeric_columns),\n",
    "    ('passthrough', 'passthrough', binary_columns)\n",
    "])\n",
    "\n",
    "pipeline = Pipeline([\n",
    "    ('preprocess', preprocessor),\n",
    "    ('regressor', LinearRegression())\n",
    "])\n",
    "\n",
    "with mlflow.start_run(run_name=\"Linear Regression\"):\n",
    "    pipeline.fit(X_train, y_train)\n",
    "    \n",
    "    y_train_pred = pipeline.predict(X_train)\n",
    "    y_test_pred = pipeline.predict(X_test)\n",
    "    \n",
    "    rmse_train = rmse(y_train, y_train_pred)\n",
    "    rmse_test = rmse(y_test, y_test_pred)\n",
    "    \n",
    "    signature = mlflow.models.infer_signature(X_train, y_train_pred)\n",
    "\n",
    "    r2_train, adj_r2_train = score(y_train, y_train_pred, X_train.shape[0], X_train.shape[1])\n",
    "    r2_test, adj_r2_test = score(y_test, y_test_pred, X_test.shape[0], X_test.shape[1])\n",
    "    \n",
    "    mlflow.set_tag('Model', 'Linear Regression')\n",
    "    \n",
    "    mlflow.log_metric('Train - RMSE', rmse_train)\n",
    "    mlflow.log_metric('Test - RMSE', rmse_test)\n",
    "    mlflow.log_metric('Train - r2 score', r2_train)\n",
    "    mlflow.log_metric('Test - r2 score', r2_test)\n",
    "    mlflow.log_metric('Train - Adjusted r2 score', adj_r2_train)\n",
    "    mlflow.log_metric('Test - Adjusted r2 score', adj_r2_test)\n",
    "    mlflow.sklearn.log_model(pipeline, 'model',  signature=signature)"
   ]
  },
  {
   "cell_type": "markdown",
   "metadata": {},
   "source": [
    "### Decision Tree"
   ]
  },
  {
   "cell_type": "code",
   "execution_count": 8,
   "metadata": {},
   "outputs": [],
   "source": [
    "def run_mlflow_decision_tree(max_dept: int) -> None:\n",
    "    with mlflow.start_run(run_name=\"Decision Tree\"):\n",
    "        pipeline = Pipeline([\n",
    "            ('scaler', StandardScaler()),\n",
    "            ('regressor', DecisionTreeRegressor(max_depth=max_dept))\n",
    "        ])\n",
    "        \n",
    "        pipeline.fit(X_train, y_train)\n",
    "        \n",
    "        y_train_pred = pipeline.predict(X_train)\n",
    "        y_test_pred = pipeline.predict(X_test)\n",
    "        \n",
    "        rmse_train = rmse(y_train, y_train_pred)\n",
    "        rmse_test = rmse(y_test, y_test_pred)\n",
    "        \n",
    "        signature = mlflow.models.infer_signature(X_train, y_train_pred)\n",
    "\n",
    "        r2_train, adj_r2_train = score(y_train, y_train_pred, X_train.shape[0], X_train.shape[1])\n",
    "        r2_test, adj_r2_test = score(y_test, y_test_pred, X_test.shape[0], X_test.shape[1])\n",
    "        \n",
    "        mlflow.set_tag('Model', 'Decision Tree Regressor')\n",
    "        mlflow.log_param('max_depth', max_dept)\n",
    "    \n",
    "        mlflow.log_metric('Train - RMSE', rmse_train)\n",
    "        mlflow.log_metric('Test - RMSE', rmse_test)\n",
    "        mlflow.log_metric('Train - r2 score', r2_train)\n",
    "        mlflow.log_metric('Test - r2 score', r2_test)\n",
    "        mlflow.log_metric('Train - Adjusted r2 score', adj_r2_train)\n",
    "        mlflow.log_metric('Test - Adjusted r2 score', adj_r2_test)\n",
    "        mlflow.sklearn.log_model(pipeline, 'model',  signature=signature)"
   ]
  },
  {
   "cell_type": "code",
   "execution_count": 9,
   "metadata": {},
   "outputs": [],
   "source": [
    "for depth in range(3, 9):\n",
    "    run_mlflow_decision_tree(depth)"
   ]
  },
  {
   "cell_type": "markdown",
   "metadata": {},
   "source": [
    "### Random Forest Regressor"
   ]
  },
  {
   "cell_type": "code",
   "execution_count": 10,
   "metadata": {},
   "outputs": [],
   "source": [
    "def run_mlflow_random_forest(n_estimators: int, max_dept: int, max_feature: str = None) -> None:\n",
    "    with mlflow.start_run(run_name=\"Random Forest\"):\n",
    "        pipeline = Pipeline([\n",
    "            ('scaler', StandardScaler()),\n",
    "            ('regressor', RandomForestRegressor(n_estimators=n_estimators, \n",
    "                                                max_depth=max_dept, \n",
    "                                                max_features=max_feature, \n",
    "                                                n_jobs=-1))\n",
    "        ])\n",
    "        \n",
    "        pipeline.fit(X_train, y_train)\n",
    "        \n",
    "        y_train_pred = pipeline.predict(X_train)\n",
    "        y_test_pred = pipeline.predict(X_test)\n",
    "        \n",
    "        rmse_train = rmse(y_train, y_train_pred)\n",
    "        rmse_test = rmse(y_test, y_test_pred)\n",
    "        \n",
    "        signature = mlflow.models.infer_signature(X_train, y_train_pred)\n",
    "\n",
    "        r2_train, adj_r2_train = score(y_train, y_train_pred, X_train.shape[0], X_train.shape[1])\n",
    "        r2_test, adj_r2_test = score(y_test, y_test_pred, X_test.shape[0], X_test.shape[1])\n",
    "        \n",
    "        mlflow.set_tag('Model', 'Random Forest Regressor')\n",
    "        mlflow.log_param('n_estimators', n_estimators)\n",
    "        mlflow.log_param('max_depth', max_dept)\n",
    "        mlflow.log_param('max_features', max_feature)\n",
    "    \n",
    "        mlflow.log_metric('Train - RMSE', rmse_train)\n",
    "        mlflow.log_metric('Test - RMSE', rmse_test)\n",
    "        mlflow.log_metric('Train - r2 score', r2_train)\n",
    "        mlflow.log_metric('Test - r2 score', r2_test)\n",
    "        mlflow.log_metric('Train - Adjusted r2 score', adj_r2_train)\n",
    "        mlflow.log_metric('Test - Adjusted r2 score', adj_r2_test)\n",
    "        mlflow.sklearn.log_model(pipeline, 'model',  signature=signature)"
   ]
  },
  {
   "cell_type": "code",
   "execution_count": 11,
   "metadata": {},
   "outputs": [],
   "source": [
    "n_estimator = [80, 90, 100, 110, 120]\n",
    "max_depth = [3, 4, 5, 6]\n",
    "max_features = [None, 'sqrt', 'log2']\n",
    "\n",
    "for n_est in n_estimator:\n",
    "    for depth in max_depth:\n",
    "        for feature in max_features:\n",
    "            run_mlflow_random_forest(n_est, depth, feature)"
   ]
  },
  {
   "cell_type": "code",
   "execution_count": 12,
   "metadata": {},
   "outputs": [],
   "source": [
    "run_mlflow_random_forest(90, 7)"
   ]
  },
  {
   "cell_type": "code",
   "execution_count": 13,
   "metadata": {},
   "outputs": [],
   "source": [
    "run_mlflow_random_forest(100, 7)"
   ]
  },
  {
   "cell_type": "markdown",
   "metadata": {},
   "source": [
    "### Gradient Boosting Regressor"
   ]
  },
  {
   "cell_type": "code",
   "execution_count": 14,
   "metadata": {},
   "outputs": [],
   "source": [
    "def run_mlflow_gbdt(loss: str, learning_rate: float, n_estimators: int, max_dept: int) -> None:\n",
    "    with mlflow.start_run(run_name=\"GBDT\"):\n",
    "        pipeline = Pipeline([\n",
    "            ('scaler', StandardScaler()),\n",
    "            ('regressor', GradientBoostingRegressor(n_estimators=n_estimators, \n",
    "                                                    max_depth=max_dept, \n",
    "                                                    learning_rate=learning_rate, \n",
    "                                                    loss=loss))\n",
    "        ])\n",
    "        \n",
    "        pipeline.fit(X_train, y_train)\n",
    "        \n",
    "        y_train_pred = pipeline.predict(X_train)\n",
    "        y_test_pred = pipeline.predict(X_test)\n",
    "        \n",
    "        rmse_train = rmse(y_train, y_train_pred)\n",
    "        rmse_test = rmse(y_test, y_test_pred)\n",
    "        \n",
    "        signature = mlflow.models.infer_signature(X_train, y_train_pred)\n",
    "\n",
    "        r2_train, adj_r2_train = score(y_train, y_train_pred, X_train.shape[0], X_train.shape[1])\n",
    "        r2_test, adj_r2_test = score(y_test, y_test_pred, X_test.shape[0], X_test.shape[1])\n",
    "        \n",
    "        mlflow.set_tag('Model', 'GBDT Regressor')\n",
    "        mlflow.log_param('loss', loss)\n",
    "        mlflow.log_param('learning_rate', learning_rate)\n",
    "        mlflow.log_param('n_estimators', n_estimators)\n",
    "        mlflow.log_param('max_depth', max_dept)\n",
    "    \n",
    "        mlflow.log_metric('Train - RMSE', rmse_train)\n",
    "        mlflow.log_metric('Test - RMSE', rmse_test)\n",
    "        mlflow.log_metric('Train - r2 score', r2_train)\n",
    "        mlflow.log_metric('Test - r2 score', r2_test)\n",
    "        mlflow.log_metric('Train - Adjusted r2 score', adj_r2_train)\n",
    "        mlflow.log_metric('Test - Adjusted r2 score', adj_r2_test)\n",
    "        mlflow.sklearn.log_model(pipeline, 'model',  signature=signature)"
   ]
  },
  {
   "cell_type": "code",
   "execution_count": 15,
   "metadata": {},
   "outputs": [],
   "source": [
    "loss = ['squared_error', 'huber']\n",
    "n_estimator = [80, 90, 100, 110, 120]\n",
    "max_depth = [3, 4, 5, 6]\n",
    "learning_rate = [0.01, 0.1, 0.2, 0.3]"
   ]
  },
  {
   "cell_type": "code",
   "execution_count": 16,
   "metadata": {},
   "outputs": [],
   "source": [
    "for l in loss:\n",
    "    for n_est in n_estimator:\n",
    "        for depth in max_depth:\n",
    "            for lr in learning_rate:\n",
    "                run_mlflow_gbdt(l, lr, n_est, depth)"
   ]
  },
  {
   "cell_type": "markdown",
   "metadata": {},
   "source": [
    "### XGBoost Regression"
   ]
  },
  {
   "cell_type": "code",
   "execution_count": 17,
   "metadata": {},
   "outputs": [],
   "source": [
    "def run_mlflow_xgboost(max_dept: int, n_estimators: int, learning_rate: float, reg_alpha: float, reg_lambda: float) -> None:\n",
    "    with mlflow.start_run(run_name=\"XGBoost\"):\n",
    "        pipeline = Pipeline([\n",
    "            ('scaler', StandardScaler()),\n",
    "            ('regressor', xgb.XGBRegressor(max_depth=max_dept, n_estimators=n_estimators, \n",
    "                                 learning_rate=learning_rate, n_jobs=-1, reg_alpha=reg_alpha, \n",
    "                                 reg_lambda=reg_lambda))\n",
    "        ])\n",
    "        \n",
    "        pipeline.fit(X_train, y_train)\n",
    "        \n",
    "        y_train_pred = pipeline.predict(X_train)\n",
    "        y_test_pred = pipeline.predict(X_test)\n",
    "        \n",
    "        rmse_train = rmse(y_train, y_train_pred)\n",
    "        rmse_test = rmse(y_test, y_test_pred)\n",
    "        \n",
    "        signature = mlflow.models.infer_signature(X_train, y_train_pred)\n",
    "\n",
    "        r2_train, adj_r2_train = score(y_train, y_train_pred, X_train.shape[0], X_train.shape[1])\n",
    "        r2_test, adj_r2_test = score(y_test, y_test_pred, X_test.shape[0], X_test.shape[1])\n",
    "        \n",
    "        mlflow.set_tag('Model', 'XGBoost Regressor')\n",
    "        mlflow.log_param('max_depth', max_dept)\n",
    "        mlflow.log_param('n_estimators', n_estimators)\n",
    "        mlflow.log_param('learning_rate', learning_rate)\n",
    "        mlflow.log_param('reg_alpha', reg_alpha)\n",
    "        mlflow.log_param('reg_lambda', reg_lambda)\n",
    "    \n",
    "        mlflow.log_metric('Train - RMSE', rmse_train)\n",
    "        mlflow.log_metric('Test - RMSE', rmse_test)\n",
    "        mlflow.log_metric('Train - r2 score', r2_train)\n",
    "        mlflow.log_metric('Test - r2 score', r2_test)\n",
    "        mlflow.log_metric('Train - Adjusted r2 score', adj_r2_train)\n",
    "        mlflow.log_metric('Test - Adjusted r2 score', adj_r2_test)\n",
    "        mlflow.sklearn.log_model(pipeline, 'model',  signature=signature)"
   ]
  },
  {
   "cell_type": "code",
   "execution_count": 18,
   "metadata": {},
   "outputs": [],
   "source": [
    "n_estimator = [80, 83, 87]\n",
    "reg_alpha = [0.1, 0.2, 0.7]\n",
    "reg_lambda = [0.1, 0.3, 0.7]\n",
    "max_depth = [3, 4]\n",
    "learning_rate = [0.02, 0.05, 0.7]\n",
    "\n",
    "for n_est in n_estimator:\n",
    "    for depth in max_depth:\n",
    "        for lr in learning_rate:\n",
    "            for alpha in reg_alpha:\n",
    "                for lam in reg_lambda:\n",
    "                    run_mlflow_xgboost(depth, n_est, lr, alpha, lam)"
   ]
  },
  {
   "cell_type": "markdown",
   "metadata": {},
   "source": [
    "### Stacking Regression"
   ]
  },
  {
   "cell_type": "code",
   "execution_count": 19,
   "metadata": {},
   "outputs": [],
   "source": [
    "base_learner = [\n",
    "    ('gb', GradientBoostingRegressor(n_estimators=100, max_depth=4, learning_rate=0.2, loss='huber')),\n",
    "    ('rd', RandomForestRegressor(n_estimators=100, max_depth=6, n_jobs=-1)),\n",
    "    ('xg', xgb.XGBRegressor(max_depth=4, n_estimators=80, learning_rate=0.05, reg_alpha=0.7, reg_lambda=0.1))\n",
    "]\n",
    "\n",
    "final_estimator = LinearRegression()\n",
    "\n",
    "with mlflow.start_run(run_name=\"Stacking Regressor\"):\n",
    "    pipeline = Pipeline([\n",
    "        ('scaler', StandardScaler()),\n",
    "        ('regressor', StackingRegressor(estimators=base_learner, final_estimator=final_estimator))\n",
    "    ])\n",
    "    \n",
    "    pipeline.fit(X_train, y_train)\n",
    "\n",
    "    y_train_pred = pipeline.predict(X_train)\n",
    "    y_test_pred = pipeline.predict(X_test)\n",
    "\n",
    "    rmse_train = rmse(y_train, y_train_pred)\n",
    "    rmse_test = rmse(y_test, y_test_pred)\n",
    "\n",
    "    signature = mlflow.models.infer_signature(X_train, y_train_pred)\n",
    "\n",
    "    r2_train, adj_r2_train = score(y_train, y_train_pred, X_train.shape[0], X_train.shape[1])\n",
    "    r2_test, adj_r2_test = score(y_test, y_test_pred, X_test.shape[0], X_test.shape[1])\n",
    "\n",
    "    mlflow.set_tag('Model', 'Stacking Regressor')\n",
    "    \n",
    "    mlflow.log_metric('Train - RMSE', rmse_train)\n",
    "    mlflow.log_metric('Test - RMSE', rmse_test)\n",
    "    mlflow.log_metric('Train - r2 score', r2_train)\n",
    "    mlflow.log_metric('Test - r2 score', r2_test)\n",
    "    mlflow.log_metric('Train - Adjusted r2 score', adj_r2_train)\n",
    "    mlflow.log_metric('Test - Adjusted r2 score', adj_r2_test)\n",
    "    mlflow.sklearn.log_model(pipeline, 'model',  signature=signature)"
   ]
  },
  {
   "cell_type": "markdown",
   "metadata": {},
   "source": [
    "### Voting Regressor"
   ]
  },
  {
   "cell_type": "code",
   "execution_count": 20,
   "metadata": {},
   "outputs": [],
   "source": [
    "with mlflow.start_run(run_name='Voting Regressor'):\n",
    "    pipeline = Pipeline([\n",
    "        ('scaler', StandardScaler()),\n",
    "        ('regressor', VotingRegressor(estimators=base_learner))\n",
    "    ])\n",
    "    \n",
    "    pipeline.fit(X_train, y_train)\n",
    "\n",
    "    y_train_pred = pipeline.predict(X_train)\n",
    "    y_test_pred = pipeline.predict(X_test)\n",
    "\n",
    "    rmse_train = rmse(y_train, y_train_pred)\n",
    "    rmse_test = rmse(y_test, y_test_pred)\n",
    "\n",
    "    signature = mlflow.models.infer_signature(X_train, y_train_pred)\n",
    "\n",
    "    r2_train, adj_r2_train = score(y_train, y_train_pred, X_train.shape[0], X_train.shape[1])\n",
    "    r2_test, adj_r2_test = score(y_test, y_test_pred, X_test.shape[0], X_test.shape[1])\n",
    "\n",
    "    mlflow.set_tag('Model', 'Voting Regressor')\n",
    "    \n",
    "    mlflow.log_metric('Train - RMSE', rmse_train)\n",
    "    mlflow.log_metric('Test - RMSE', rmse_test)\n",
    "    mlflow.log_metric('Train - r2 score', r2_train)\n",
    "    mlflow.log_metric('Test - r2 score', r2_test)\n",
    "    mlflow.log_metric('Train - Adjusted r2 score', adj_r2_train)\n",
    "    mlflow.log_metric('Test - Adjusted r2 score', adj_r2_test)\n",
    "    mlflow.sklearn.log_model(pipeline, 'model',  signature=signature)"
   ]
  }
 ],
 "metadata": {
  "kernelspec": {
   "display_name": "ml3.12",
   "language": "python",
   "name": "python3"
  },
  "language_info": {
   "codemirror_mode": {
    "name": "ipython",
    "version": 3
   },
   "file_extension": ".py",
   "mimetype": "text/x-python",
   "name": "python",
   "nbconvert_exporter": "python",
   "pygments_lexer": "ipython3",
   "version": "3.12.2"
  }
 },
 "nbformat": 4,
 "nbformat_minor": 2
}
