{
 "cells": [
  {
   "cell_type": "markdown",
   "metadata": {},
   "source": [
    "The aim here is to predict the PremiumPrice based on the provided features. We split the data using Age (stratified) to make sure the Age distribution stays similar in both the train and test sets. Then, we use the feature-engineered data to see how well the models perform."
   ]
  },
  {
   "cell_type": "markdown",
   "metadata": {},
   "source": [
    "## Imports"
   ]
  },
  {
   "cell_type": "code",
   "execution_count": 1,
   "metadata": {},
   "outputs": [],
   "source": [
    "import os\n",
    "import sys\n",
    "parent_dir = os.path.abspath(os.path.join(os.getcwd(), os.pardir))\n",
    "sys.path.append(parent_dir)"
   ]
  },
  {
   "cell_type": "code",
   "execution_count": 2,
   "metadata": {},
   "outputs": [],
   "source": [
    "import warnings\n",
    "import numpy as np\n",
    "import pandas as pd\n",
    "\n",
    "from sklearn.preprocessing import StandardScaler\n",
    "from sklearn.model_selection import train_test_split\n",
    "from sklearn.linear_model import LinearRegression\n",
    "from sklearn.tree import DecisionTreeRegressor\n",
    "from sklearn.ensemble import RandomForestRegressor, StackingRegressor, VotingRegressor\n",
    "from sklearn.ensemble import GradientBoostingRegressor\n",
    "from sklearn.pipeline import Pipeline\n",
    "from sklearn.compose import ColumnTransformer\n",
    "\n",
    "import xgboost as xgb\n",
    "\n",
    "import mlflow\n",
    "\n",
    "from src.utils import r2_and_adjusted_r2_score as score, root_mean_squared_error as rmse\n",
    "from src.mlflow_util import setup_mlflow_experiment as setup_exp\n",
    "\n",
    "warnings.filterwarnings('ignore')"
   ]
  },
  {
   "cell_type": "markdown",
   "metadata": {},
   "source": [
    "## Read Data"
   ]
  },
  {
   "cell_type": "code",
   "execution_count": 3,
   "metadata": {},
   "outputs": [],
   "source": [
    "processed_data_dir = os.path.join(parent_dir, 'data', 'processed')"
   ]
  },
  {
   "cell_type": "code",
   "execution_count": 4,
   "metadata": {},
   "outputs": [
    {
     "data": {
      "text/html": [
       "<div>\n",
       "<style scoped>\n",
       "    .dataframe tbody tr th:only-of-type {\n",
       "        vertical-align: middle;\n",
       "    }\n",
       "\n",
       "    .dataframe tbody tr th {\n",
       "        vertical-align: top;\n",
       "    }\n",
       "\n",
       "    .dataframe thead th {\n",
       "        text-align: right;\n",
       "    }\n",
       "</style>\n",
       "<table border=\"1\" class=\"dataframe\">\n",
       "  <thead>\n",
       "    <tr style=\"text-align: right;\">\n",
       "      <th></th>\n",
       "      <th>Age</th>\n",
       "      <th>Diabetes</th>\n",
       "      <th>BloodPressureProblems</th>\n",
       "      <th>AnyTransplants</th>\n",
       "      <th>AnyChronicDiseases</th>\n",
       "      <th>Height</th>\n",
       "      <th>Weight</th>\n",
       "      <th>KnownAllergies</th>\n",
       "      <th>HistoryOfCancerInFamily</th>\n",
       "      <th>NumberOfMajorSurgeries</th>\n",
       "      <th>PremiumPrice</th>\n",
       "      <th>MajorSurgeryDone</th>\n",
       "      <th>BMI</th>\n",
       "    </tr>\n",
       "  </thead>\n",
       "  <tbody>\n",
       "    <tr>\n",
       "      <th>0</th>\n",
       "      <td>45</td>\n",
       "      <td>0</td>\n",
       "      <td>0</td>\n",
       "      <td>0</td>\n",
       "      <td>0</td>\n",
       "      <td>155</td>\n",
       "      <td>57</td>\n",
       "      <td>0</td>\n",
       "      <td>0</td>\n",
       "      <td>0</td>\n",
       "      <td>25000</td>\n",
       "      <td>0</td>\n",
       "      <td>23.725286</td>\n",
       "    </tr>\n",
       "    <tr>\n",
       "      <th>1</th>\n",
       "      <td>60</td>\n",
       "      <td>1</td>\n",
       "      <td>0</td>\n",
       "      <td>0</td>\n",
       "      <td>0</td>\n",
       "      <td>180</td>\n",
       "      <td>73</td>\n",
       "      <td>0</td>\n",
       "      <td>0</td>\n",
       "      <td>0</td>\n",
       "      <td>29000</td>\n",
       "      <td>0</td>\n",
       "      <td>22.530864</td>\n",
       "    </tr>\n",
       "    <tr>\n",
       "      <th>2</th>\n",
       "      <td>36</td>\n",
       "      <td>1</td>\n",
       "      <td>1</td>\n",
       "      <td>0</td>\n",
       "      <td>0</td>\n",
       "      <td>158</td>\n",
       "      <td>59</td>\n",
       "      <td>0</td>\n",
       "      <td>0</td>\n",
       "      <td>1</td>\n",
       "      <td>23000</td>\n",
       "      <td>1</td>\n",
       "      <td>23.634033</td>\n",
       "    </tr>\n",
       "    <tr>\n",
       "      <th>3</th>\n",
       "      <td>52</td>\n",
       "      <td>1</td>\n",
       "      <td>1</td>\n",
       "      <td>0</td>\n",
       "      <td>1</td>\n",
       "      <td>183</td>\n",
       "      <td>93</td>\n",
       "      <td>0</td>\n",
       "      <td>0</td>\n",
       "      <td>2</td>\n",
       "      <td>28000</td>\n",
       "      <td>1</td>\n",
       "      <td>27.770313</td>\n",
       "    </tr>\n",
       "    <tr>\n",
       "      <th>4</th>\n",
       "      <td>38</td>\n",
       "      <td>0</td>\n",
       "      <td>0</td>\n",
       "      <td>0</td>\n",
       "      <td>1</td>\n",
       "      <td>166</td>\n",
       "      <td>88</td>\n",
       "      <td>0</td>\n",
       "      <td>0</td>\n",
       "      <td>1</td>\n",
       "      <td>23000</td>\n",
       "      <td>1</td>\n",
       "      <td>31.934969</td>\n",
       "    </tr>\n",
       "  </tbody>\n",
       "</table>\n",
       "</div>"
      ],
      "text/plain": [
       "   Age  Diabetes  BloodPressureProblems  AnyTransplants  AnyChronicDiseases  \\\n",
       "0   45         0                      0               0                   0   \n",
       "1   60         1                      0               0                   0   \n",
       "2   36         1                      1               0                   0   \n",
       "3   52         1                      1               0                   1   \n",
       "4   38         0                      0               0                   1   \n",
       "\n",
       "   Height  Weight  KnownAllergies  HistoryOfCancerInFamily  \\\n",
       "0     155      57               0                        0   \n",
       "1     180      73               0                        0   \n",
       "2     158      59               0                        0   \n",
       "3     183      93               0                        0   \n",
       "4     166      88               0                        0   \n",
       "\n",
       "   NumberOfMajorSurgeries  PremiumPrice  MajorSurgeryDone        BMI  \n",
       "0                       0         25000                 0  23.725286  \n",
       "1                       0         29000                 0  22.530864  \n",
       "2                       1         23000                 1  23.634033  \n",
       "3                       2         28000                 1  27.770313  \n",
       "4                       1         23000                 1  31.934969  "
      ]
     },
     "execution_count": 4,
     "metadata": {},
     "output_type": "execute_result"
    }
   ],
   "source": [
    "df = pd.read_csv(os.path.join(processed_data_dir, 'insurance_feature_engineered_for_model.csv'))\n",
    "df.head()"
   ]
  },
  {
   "cell_type": "markdown",
   "metadata": {},
   "source": [
    "## MLFlow Setup"
   ]
  },
  {
   "cell_type": "code",
   "execution_count": 5,
   "metadata": {},
   "outputs": [
    {
     "data": {
      "text/plain": [
       "<Experiment: artifact_location='file:///Users/wasimmujawar/Projects/Insurance-Price-Predictor/mlruns/710435938879440631', creation_time=1737139253236, experiment_id='710435938879440631', last_update_time=1737139253236, lifecycle_stage='active', name='ZZZ - Premium Prediction - stratified by Age - Engineered Features', tags={'mlflow.note.content': 'The goal is to predict the PremiumPrice based on the '\n",
       "                        'given features.\\n'\n",
       "                        'Data is splitted using the Age feature to ensure that '\n",
       "                        'the distribution of Age is similar in both train and '\n",
       "                        'test sets.\\n'\n",
       "                        'Feature engineering is done to create new features '\n",
       "                        'like BMI and MajorSurgeryDone\\n'}>"
      ]
     },
     "execution_count": 5,
     "metadata": {},
     "output_type": "execute_result"
    }
   ],
   "source": [
    "exp_name = 'Premium Prediction - stratified by Age - Engineered Features'\n",
    "exp_description = '''The goal is to predict the PremiumPrice based on the given features.\n",
    "Data is splitted using the Age feature to ensure that the distribution of Age is similar in both train and test sets.\n",
    "Feature engineering is done to create new features like BMI and MajorSurgeryDone\n",
    "'''\n",
    "\n",
    "experiment = setup_exp(exp_name, exp_description)\n",
    "\n",
    "experiment_id = experiment.experiment_id\n",
    "\n",
    "mlflow.set_experiment(experiment_id=experiment_id)\n"
   ]
  },
  {
   "cell_type": "markdown",
   "metadata": {},
   "source": [
    "## Model selection"
   ]
  },
  {
   "cell_type": "markdown",
   "metadata": {},
   "source": [
    "### Train Test Split"
   ]
  },
  {
   "cell_type": "markdown",
   "metadata": {},
   "source": [
    "We have seen in EDA, that there is a significant difference in the premium price for different age and bmi category, we will try to split the data using both age and bmi category as stratum parameter and observe the models performance"
   ]
  },
  {
   "cell_type": "code",
   "execution_count": 6,
   "metadata": {},
   "outputs": [],
   "source": [
    "bins = [0, 18.5, 24.9, 29.9, 34.9, np.inf]\n",
    "labels = ['Underweight', 'Normal weight', 'Overweight', 'Obesity Class 1', 'Obesity Class 2/3']\n",
    "\n",
    "bmi_category = pd.cut(df['BMI'], bins=bins, labels=labels, right=False)"
   ]
  },
  {
   "cell_type": "code",
   "execution_count": 7,
   "metadata": {},
   "outputs": [],
   "source": [
    "age_bins = [18, 25, 40, 55, np.inf]\n",
    "age_labels = ['Young Adult', 'Adult', \n",
    "              'Middle Aged Adults', 'Senior']\n",
    "\n",
    "age_category = pd.cut(df['Age'], bins=age_bins, labels=age_labels, right=False)"
   ]
  },
  {
   "cell_type": "markdown",
   "metadata": {},
   "source": [
    "First lets split the data using age category"
   ]
  },
  {
   "cell_type": "code",
   "execution_count": 8,
   "metadata": {},
   "outputs": [],
   "source": [
    "X_train, X_test, y_train, y_test = train_test_split(df.drop(columns=['PremiumPrice']), df['PremiumPrice']\n",
    "                                                    ,stratify=age_category, test_size=0.2, random_state=42)"
   ]
  },
  {
   "cell_type": "markdown",
   "metadata": {},
   "source": [
    "### Linear Regression"
   ]
  },
  {
   "cell_type": "code",
   "execution_count": 9,
   "metadata": {},
   "outputs": [],
   "source": [
    "numeric_columns = ['Age', 'Height', 'Weight', 'BMI']\n",
    "binary_columns = ['Diabetes', 'BloodPressureProblems', 'AnyTransplants', 'AnyChronicDiseases', 'KnownAllergies', 'HistoryOfCancerInFamily', 'MajorSurgeryDone', 'NumberOfMajorSurgeries']\n",
    "\n",
    "preprocessor = ColumnTransformer([\n",
    "    ('scaler', StandardScaler(), numeric_columns),\n",
    "    ('passthrough', 'passthrough', binary_columns)\n",
    "])\n",
    "\n",
    "pipeline = Pipeline([\n",
    "    ('preprocess', preprocessor),\n",
    "    ('regressor', LinearRegression())\n",
    "])\n",
    "\n",
    "with mlflow.start_run(run_name=\"Linear Regression\"):\n",
    "    pipeline.fit(X_train, y_train)\n",
    "    \n",
    "    y_train_pred = pipeline.predict(X_train)\n",
    "    y_test_pred = pipeline.predict(X_test)\n",
    "    \n",
    "    rmse_train = rmse(y_train, y_train_pred)\n",
    "    rmse_test = rmse(y_test, y_test_pred)\n",
    "    \n",
    "    signature = mlflow.models.infer_signature(X_train, y_train_pred)\n",
    "\n",
    "    r2_train, adj_r2_train = score(y_train, y_train_pred, X_train.shape[0], X_train.shape[1])\n",
    "    r2_test, adj_r2_test = score(y_test, y_test_pred, X_test.shape[0], X_test.shape[1])\n",
    "    \n",
    "    mlflow.set_tag('Model', 'Linear Regression')\n",
    "    mlflow.log_metric('Train - RMSE', rmse_train)\n",
    "    mlflow.log_metric('Test - RMSE', rmse_test)\n",
    "    mlflow.log_metric('Train - r2 score', r2_train)\n",
    "    mlflow.log_metric('Test - r2 score', r2_test)\n",
    "    mlflow.log_metric('Train - Adjusted r2 score', adj_r2_train)\n",
    "    mlflow.log_metric('Test - Adjusted r2 score', adj_r2_test)\n",
    "    mlflow.sklearn.log_model(pipeline, 'model',  signature=signature)"
   ]
  },
  {
   "cell_type": "markdown",
   "metadata": {},
   "source": [
    "### Decision Tree"
   ]
  },
  {
   "cell_type": "code",
   "execution_count": 10,
   "metadata": {},
   "outputs": [],
   "source": [
    "def run_mlflow_decision_tree(max_dept: int) -> None:\n",
    "    with mlflow.start_run(run_name=\"Decision Tree\"):\n",
    "        model = DecisionTreeRegressor(max_depth=max_dept)\n",
    "        \n",
    "        model.fit(X_train, y_train)\n",
    "        \n",
    "        y_train_pred = model.predict(X_train)\n",
    "        y_test_pred = model.predict(X_test)\n",
    "        \n",
    "        rmse_train = rmse(y_train, y_train_pred)\n",
    "        rmse_test = rmse(y_test, y_test_pred)\n",
    "        \n",
    "        signature = mlflow.models.infer_signature(X_train, y_train_pred)\n",
    "\n",
    "\n",
    "        r2_train, adj_r2_train = score(y_train, y_train_pred, X_train.shape[0], X_train.shape[1])\n",
    "        r2_test, adj_r2_test = score(y_test, y_test_pred, X_test.shape[0], X_test.shape[1])\n",
    "        \n",
    "        mlflow.set_tag('Model', 'Decision Tree Regressor')\n",
    "        \n",
    "        mlflow.log_param('max_depth', max_dept)\n",
    "        mlflow.log_metric('Train - RMSE', rmse_train)\n",
    "        mlflow.log_metric('Test - RMSE', rmse_test)\n",
    "        mlflow.log_metric('Train - r2 score', r2_train)\n",
    "        mlflow.log_metric('Test - r2 score', r2_test)\n",
    "        mlflow.log_metric('Train - Adjusted r2 score', adj_r2_train)\n",
    "        mlflow.log_metric('Test - Adjusted r2 score', adj_r2_test)\n",
    "\n",
    "        mlflow.sklearn.log_model(model, 'model',  signature=signature)"
   ]
  },
  {
   "cell_type": "code",
   "execution_count": 11,
   "metadata": {},
   "outputs": [],
   "source": [
    "for depth in range(3, 9):\n",
    "    run_mlflow_decision_tree(depth)"
   ]
  },
  {
   "cell_type": "markdown",
   "metadata": {},
   "source": [
    "### Random Forest Regressor"
   ]
  },
  {
   "cell_type": "code",
   "execution_count": 12,
   "metadata": {},
   "outputs": [],
   "source": [
    "def run_mlflow_random_forest(n_estimators: int, max_dept: int, max_feature: str = None) -> None:\n",
    "    with mlflow.start_run(run_name=\"Random Forest\"):\n",
    "        model = RandomForestRegressor(n_estimators=n_estimators, \n",
    "                                        max_depth=max_dept, \n",
    "                                        max_features=max_feature, \n",
    "                                        n_jobs=-1)\n",
    "        \n",
    "        model.fit(X_train, y_train)\n",
    "        \n",
    "        y_train_pred = model.predict(X_train)\n",
    "        y_test_pred = model.predict(X_test)\n",
    "        \n",
    "        rmse_train = rmse(y_train, y_train_pred)\n",
    "        rmse_test = rmse(y_test, y_test_pred)\n",
    "        \n",
    "        signature = mlflow.models.infer_signature(X_train, y_train_pred)\n",
    "\n",
    "        r2_train, adj_r2_train = score(y_train, y_train_pred, X_train.shape[0], X_train.shape[1])\n",
    "        r2_test, adj_r2_test = score(y_test, y_test_pred, X_test.shape[0], X_test.shape[1])\n",
    "        \n",
    "        mlflow.set_tag('Model', 'Random Forest Regressor')\n",
    "        mlflow.log_param('n_estimators', n_estimators)\n",
    "        mlflow.log_param('max_depth', max_dept)\n",
    "        mlflow.log_param('max_features', max_feature)\n",
    "        mlflow.log_metric('Train - RMSE', rmse_train)\n",
    "        mlflow.log_metric('Test - RMSE', rmse_test)\n",
    "        mlflow.log_metric('Train - r2 score', r2_train)\n",
    "        mlflow.log_metric('Test - r2 score', r2_test)\n",
    "        mlflow.log_metric('Train - Adjusted r2 score', adj_r2_train)\n",
    "        mlflow.log_metric('Test - Adjusted r2 score', adj_r2_test)\n",
    "        mlflow.sklearn.log_model(model, 'model',  signature=signature)"
   ]
  },
  {
   "cell_type": "code",
   "execution_count": 13,
   "metadata": {},
   "outputs": [],
   "source": [
    "n_estimator = [80, 90, 100, 110, 120]\n",
    "max_depth = [3, 4, 5, 6, 7, 8]\n",
    "max_features = [None, 'sqrt', 'log2']\n",
    "\n",
    "for n_est in n_estimator:\n",
    "    for depth in max_depth:\n",
    "        for feature in max_features:\n",
    "            run_mlflow_random_forest(n_est, depth, feature)"
   ]
  },
  {
   "cell_type": "markdown",
   "metadata": {},
   "source": [
    "### Gradient Boosting Regressor"
   ]
  },
  {
   "cell_type": "code",
   "execution_count": 14,
   "metadata": {},
   "outputs": [],
   "source": [
    "def run_mlflow_gbdt(loss: str, learning_rate: float, n_estimators: int, max_dept: int) -> None:\n",
    "    with mlflow.start_run(run_name=\"GBDT\"):\n",
    "        model = GradientBoostingRegressor(n_estimators=n_estimators, \n",
    "                                            max_depth=max_dept, \n",
    "                                            learning_rate=learning_rate, \n",
    "                                            loss=loss)\n",
    "        \n",
    "        model.fit(X_train, y_train)\n",
    "        \n",
    "        y_train_pred = model.predict(X_train)\n",
    "        y_test_pred = model.predict(X_test)\n",
    "        \n",
    "        rmse_train = rmse(y_train, y_train_pred)\n",
    "        rmse_test = rmse(y_test, y_test_pred)\n",
    "        \n",
    "        signature = mlflow.models.infer_signature(X_train, y_train_pred)\n",
    "\n",
    "        r2_train, adj_r2_train = score(y_train, y_train_pred, X_train.shape[0], X_train.shape[1])\n",
    "        r2_test, adj_r2_test = score(y_test, y_test_pred, X_test.shape[0], X_test.shape[1])\n",
    "        \n",
    "        mlflow.set_tag('Model', 'GBDT Regressor')\n",
    "        mlflow.log_param('loss', loss)\n",
    "        mlflow.log_param('learning_rate', learning_rate)\n",
    "        mlflow.log_param('n_estimators', n_estimators)\n",
    "        mlflow.log_param('max_depth', max_dept)\n",
    "        mlflow.log_metric('Train - RMSE', rmse_train)\n",
    "        mlflow.log_metric('Test - RMSE', rmse_test)\n",
    "        mlflow.log_metric('Train - r2 score', r2_train)\n",
    "        mlflow.log_metric('Test - r2 score', r2_test)\n",
    "        mlflow.log_metric('Train - Adjusted r2 score', adj_r2_train)\n",
    "        mlflow.log_metric('Test - Adjusted r2 score', adj_r2_test)\n",
    "        mlflow.sklearn.log_model(model, 'model',  signature=signature)"
   ]
  },
  {
   "cell_type": "code",
   "execution_count": 15,
   "metadata": {},
   "outputs": [],
   "source": [
    "loss = ['squared_error', 'huber']\n",
    "n_estimator = [80, 90, 100, 110, 120]\n",
    "max_depth = [3, 4, 5, 6]\n",
    "learning_rate = [0.01, 0.1, 0.2, 0.3]"
   ]
  },
  {
   "cell_type": "code",
   "execution_count": 16,
   "metadata": {},
   "outputs": [],
   "source": [
    "for l in loss:\n",
    "    for n_est in n_estimator:\n",
    "        for depth in max_depth:\n",
    "            for lr in learning_rate:\n",
    "                run_mlflow_gbdt(l, lr, n_est, depth)"
   ]
  },
  {
   "cell_type": "markdown",
   "metadata": {},
   "source": [
    "### XGBoost Regression"
   ]
  },
  {
   "cell_type": "code",
   "execution_count": 17,
   "metadata": {},
   "outputs": [],
   "source": [
    "def run_mlflow_xgboost(max_dept: int, n_estimators: int, learning_rate: float, reg_alpha: float, reg_lambda: float, child: int, booster: str) -> None:\n",
    "    with mlflow.start_run(run_name=\"XGBoost\"):\n",
    "        model = xgb.XGBRegressor(max_depth=max_dept, n_estimators=n_estimators, \n",
    "                                 learning_rate=learning_rate, n_jobs=-1, reg_alpha=reg_alpha, \n",
    "                                 reg_lambda=reg_lambda, subsample=0.6, colsample_bytree=0.7, min_child_weight=child, booster=booster)\n",
    "        \n",
    "        model.fit(X_train, y_train)\n",
    "        \n",
    "        y_train_pred = model.predict(X_train)\n",
    "        y_test_pred = model.predict(X_test)\n",
    "        \n",
    "        rmse_train = rmse(y_train, y_train_pred)\n",
    "        rmse_test = rmse(y_test, y_test_pred)\n",
    "        \n",
    "        signature = mlflow.models.infer_signature(X_train, y_train_pred)\n",
    "\n",
    "        r2_train, adj_r2_train = score(y_train, y_train_pred, X_train.shape[0], X_train.shape[1])\n",
    "        r2_test, adj_r2_test = score(y_test, y_test_pred, X_test.shape[0], X_test.shape[1])\n",
    "        \n",
    "        mlflow.set_tag('Model', 'XGBoost Regressor')\n",
    "        mlflow.log_param('max_depth', max_dept)\n",
    "        mlflow.log_param('n_estimators', n_estimators)\n",
    "        mlflow.log_param('learning_rate', learning_rate)\n",
    "        mlflow.log_param('reg_alpha', reg_alpha)\n",
    "        mlflow.log_param('reg_lambda', reg_lambda)\n",
    "        mlflow.log_param('min_child_weight', child)\n",
    "        mlflow.log_param('booster', booster)\n",
    "        \n",
    "        mlflow.log_metric('Train - RMSE', rmse_train)\n",
    "        mlflow.log_metric('Test - RMSE', rmse_test)\n",
    "        mlflow.log_metric('Train - r2 score', r2_train)\n",
    "        mlflow.log_metric('Test - r2 score', r2_test)\n",
    "        mlflow.log_metric('Train - Adjusted r2 score', adj_r2_train)\n",
    "        mlflow.log_metric('Test - Adjusted r2 score', adj_r2_test)\n",
    "        mlflow.sklearn.log_model(model, 'model',  signature=signature)"
   ]
  },
  {
   "cell_type": "code",
   "execution_count": 18,
   "metadata": {},
   "outputs": [],
   "source": [
    "n_estimator = [80, 90, 100]\n",
    "reg_alpha = [0.3, 0.5, 0.7]\n",
    "reg_lambda = [0.3, 0.5, 0.7]\n",
    "max_depth = [5, 6, 7]\n",
    "learning_rate = [0.08, 0.12] #[0.02, 0.03, 0.04]\n",
    "min_child_weights = [2, 3]\n",
    "boosters = ['gbtree', 'dart']\n",
    "\n",
    "for n_est in n_estimator:\n",
    "    for depth in max_depth:\n",
    "        for lr in learning_rate:\n",
    "            for alpha in reg_alpha:\n",
    "                for lam in reg_lambda:\n",
    "                    for child in min_child_weights:\n",
    "                        for booster in boosters:\n",
    "                            run_mlflow_xgboost(depth, n_est, lr, alpha, lam, child, booster)"
   ]
  },
  {
   "cell_type": "markdown",
   "metadata": {},
   "source": [
    "### Stacking Regression"
   ]
  },
  {
   "cell_type": "code",
   "execution_count": 19,
   "metadata": {},
   "outputs": [],
   "source": [
    "base_learner = [\n",
    "    ('gb1', GradientBoostingRegressor(n_estimators=110, max_depth=5, learning_rate=0.1, loss='huber')),\n",
    "    ('gb2', GradientBoostingRegressor(n_estimators=120, max_depth=5, learning_rate=0.1, loss='huber')),\n",
    "    ('rd1', RandomForestRegressor(n_estimators=100, max_depth=7, n_jobs=-1)),\n",
    "    ('rd2', RandomForestRegressor(n_estimators=90, max_depth=7, n_jobs=-1)),\n",
    "    ('xg1', xgb.XGBRegressor(max_depth=6, n_estimators=90, learning_rate=0.03, reg_alpha=0.5, reg_lambda=0.7)),\n",
    "    ('xg2', xgb.XGBRegressor(max_depth=6, n_estimators=80, learning_rate=0.04, reg_alpha=0.1, reg_lambda=0.7))\n",
    "]\n",
    "\n",
    "final_estimator = LinearRegression()\n",
    "\n",
    "with mlflow.start_run(run_name=\"Stacking Regressor\"):\n",
    "    model = StackingRegressor(estimators=base_learner, final_estimator=final_estimator)\n",
    "    \n",
    "    model.fit(X_train, y_train)\n",
    "\n",
    "    y_train_pred = model.predict(X_train)\n",
    "    y_test_pred = model.predict(X_test)\n",
    "\n",
    "    rmse_train = rmse(y_train, y_train_pred)\n",
    "    rmse_test = rmse(y_test, y_test_pred)\n",
    "\n",
    "    signature = mlflow.models.infer_signature(X_train, y_train_pred)\n",
    "\n",
    "    r2_train, adj_r2_train = score(y_train, y_train_pred, X_train.shape[0], X_train.shape[1])\n",
    "    r2_test, adj_r2_test = score(y_test, y_test_pred, X_test.shape[0], X_test.shape[1])\n",
    "\n",
    "    mlflow.set_tag('Model', 'Stacking Regressor')\n",
    "    mlflow.log_metric('Train - RMSE', rmse_train)\n",
    "    mlflow.log_metric('Test - RMSE', rmse_test)\n",
    "    mlflow.log_metric('Train - r2 score', r2_train)\n",
    "    mlflow.log_metric('Test - r2 score', r2_test)\n",
    "    mlflow.log_metric('Train - Adjusted r2 score', adj_r2_train)\n",
    "    mlflow.log_metric('Test - Adjusted r2 score', adj_r2_test)\n",
    "    mlflow.sklearn.log_model(model, 'model',  signature=signature)"
   ]
  },
  {
   "cell_type": "markdown",
   "metadata": {},
   "source": [
    "### Voting Regressor"
   ]
  },
  {
   "cell_type": "code",
   "execution_count": 20,
   "metadata": {},
   "outputs": [],
   "source": [
    "with mlflow.start_run(run_name='Voting Regressor'):\n",
    "    model = VotingRegressor(estimators=base_learner)\n",
    "    \n",
    "    model.fit(X_train, y_train)\n",
    "\n",
    "    y_train_pred = model.predict(X_train)\n",
    "    y_test_pred = model.predict(X_test)\n",
    "\n",
    "    rmse_train = rmse(y_train, y_train_pred)\n",
    "    rmse_test = rmse(y_test, y_test_pred)\n",
    "\n",
    "    signature = mlflow.models.infer_signature(X_train, y_train_pred)\n",
    "\n",
    "    r2_train, adj_r2_train = score(y_train, y_train_pred, X_train.shape[0], X_train.shape[1])\n",
    "    r2_test, adj_r2_test = score(y_test, y_test_pred, X_test.shape[0], X_test.shape[1])\n",
    "\n",
    "    mlflow.set_tag('Model', 'Voting Regressor')\n",
    "    mlflow.log_metric('Train - RMSE', rmse_train)\n",
    "    mlflow.log_metric('Test - RMSE', rmse_test)\n",
    "    mlflow.log_metric('Train - r2 score', r2_train)\n",
    "    mlflow.log_metric('Test - r2 score', r2_test)\n",
    "    mlflow.log_metric('Train - Adjusted r2 score', adj_r2_train)\n",
    "    mlflow.log_metric('Test - Adjusted r2 score', adj_r2_test)\n",
    "    mlflow.sklearn.log_model(model, 'model',  signature=signature)"
   ]
  }
 ],
 "metadata": {
  "kernelspec": {
   "display_name": "ml3.12",
   "language": "python",
   "name": "python3"
  },
  "language_info": {
   "codemirror_mode": {
    "name": "ipython",
    "version": 3
   },
   "file_extension": ".py",
   "mimetype": "text/x-python",
   "name": "python",
   "nbconvert_exporter": "python",
   "pygments_lexer": "ipython3",
   "version": "3.12.2"
  }
 },
 "nbformat": 4,
 "nbformat_minor": 2
}
